{
  "nbformat": 4,
  "nbformat_minor": 0,
  "metadata": {
    "colab": {
      "provenance": [],
      "cell_execution_strategy": "setup",
      "authorship_tag": "ABX9TyNcLqu9d4+aUbOSrjdPOn3y",
      "include_colab_link": true
    },
    "kernelspec": {
      "name": "python3",
      "display_name": "Python 3"
    },
    "language_info": {
      "name": "python"
    }
  },
  "cells": [
    {
      "cell_type": "markdown",
      "metadata": {
        "id": "view-in-github",
        "colab_type": "text"
      },
      "source": [
        "<a href=\"https://colab.research.google.com/github/Andresf-Asprilla/Modelo-segmentacion-APCIVMAPCAs/blob/main/Utilidades/Escalado_Intensidad_Espaciado.ipynb\" target=\"_parent\"><img src=\"https://colab.research.google.com/assets/colab-badge.svg\" alt=\"Open In Colab\"/></a>"
      ]
    },
    {
      "cell_type": "markdown",
      "source": [
        "#Ejecuta el siguiente código una sola vez haciendo clic dentro de la celda y luego presionando Control + Enter."
      ],
      "metadata": {
        "id": "Pu0FClAKNDyI"
      }
    },
    {
      "cell_type": "markdown",
      "source": [
        "Antes de ejecutar el siguiente script, debe instalar las siguientes dependencias:\n",
        "```\n",
        "!pip install -q \"monai-weekly[gdown, nibabel, tqdm, itk]\"\n",
        "!pip install SimpleITK\n",
        "```\n",
        "\n"
      ],
      "metadata": {
        "id": "PpVygEoVEUOL"
      }
    },
    {
      "cell_type": "code",
      "source": [
        "from google.colab import drive\n",
        "drive.mount('/content/drive', force_remount=True)\n",
        "\n",
        "import SimpleITK as sitk\n",
        "import nibabel as nib\n",
        "import monai.transforms as tf\n",
        "import os\n",
        "\n",
        "def NormalizacionyEspaciado(ruta_directorio, ruta_salida, nuevo_espaciado):\n",
        "    \"\"\"\n",
        "     Cambia el espaciado de todas las imágenes en un directorio sin modificar sus dimensiones ni el tamaño de las estructuras.\n",
        "    :param ruta_directorio: Ruta al directorio que contiene los archivos NIfTI de entrada.\n",
        "    :param ruta_salida: Ruta al directorio donde se guardarán los archivos procesados.\n",
        "    :param nuevo_espaciado: Nuevo espaciado como lista [x, y, z].\n",
        "    \"\"\"\n",
        "    os.makedirs(ruta_salida, exist_ok=True)\n",
        "\n",
        "    for archivo in os.listdir(ruta_directorio):\n",
        "        if archivo.endswith('.nii') or archivo.endswith('.nii.gz'):\n",
        "            ruta_entrada = os.path.join(ruta_directorio, archivo)\n",
        "            ruta_salida_archivo = os.path.join(ruta_salida, archivo)\n",
        "\n",
        "            # Leer imagen con SimpleITK\n",
        "            imagen = sitk.ReadImage(ruta_entrada)\n",
        "\n",
        "            # Mostrar info original\n",
        "            print(f\"\\nProcesando: {archivo}\")\n",
        "            print(f\"Espaciado original: {imagen.GetSpacing()}\")\n",
        "            print(f\"Tamaño: {imagen.GetSize()}\")\n",
        "            print(f\"Origen: {imagen.GetOrigin()}\")\n",
        "\n",
        "            # Cambiar solo el espaciado\n",
        "            imagen.SetSpacing(nuevo_espaciado)\n",
        "\n",
        "            # Guardar temporalmente\n",
        "            sitk.WriteImage(imagen, ruta_salida_archivo)\n",
        "            print(f\"Espaciado actualizado a: {nuevo_espaciado}\")\n",
        "\n",
        "            # Normalización de intensidad\n",
        "            nifti_imagen = nib.load(ruta_salida_archivo)\n",
        "            datos_imagen = nifti_imagen.get_fdata()\n",
        "            affine = nifti_imagen.affine\n",
        "\n",
        "            escalar_intensidad = tf.ScaleIntensity()\n",
        "            imagen_normalizada = escalar_intensidad(datos_imagen).numpy()\n",
        "\n",
        "            nib.save(nib.Nifti1Image(imagen_normalizada, affine), ruta_salida_archivo)\n",
        "            print(\"Normalización de intensidad aplicada y guardada.\")\n"
      ],
      "metadata": {
        "colab": {
          "base_uri": "https://localhost:8080/"
        },
        "id": "s-oT9NuR3kLy",
        "outputId": "74084233-4222-44d3-8134-da868139fde8"
      },
      "execution_count": null,
      "outputs": [
        {
          "output_type": "stream",
          "name": "stdout",
          "text": [
            "Mounted at /content/drive\n"
          ]
        }
      ]
    },
    {
      "cell_type": "code",
      "source": [
        "# Uso para un directorio\n",
        "ruta_directorio = \"/content/drive/MyDrive/Colab Notebooks/Imagenes_redimencionadas_Respaciadas/ImagesEscalarRedimecionar\"# cambia esta direccion por la carpeta donde se encuentra ubicadas las imagenes dicom en tu drive.\n",
        "ruta_salida = \"/content/drive/MyDrive/Colab Notebooks/Imagenes_redimencionadas_Respaciadas/EscaladasRedimecionadas\" # Cambia esta dirección por la carpeta  donde deseas que las imágenes reescaladas y espacadas se almacenen.\n",
        "nuevo_espaciado = [1.0, 1.0, 1.0]  # Espaciado deseado en mm\n",
        "\n",
        "NormalizacionyEspaciado(ruta_directorio, ruta_salida, nuevo_espaciado)\n"
      ],
      "metadata": {
        "id": "Qz6x9ojKF6PO"
      },
      "execution_count": null,
      "outputs": []
    }
  ]
}