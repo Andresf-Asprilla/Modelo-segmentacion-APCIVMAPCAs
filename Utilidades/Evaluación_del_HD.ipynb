{
  "nbformat": 4,
  "nbformat_minor": 0,
  "metadata": {
    "colab": {
      "provenance": [],
      "mount_file_id": "1SsTOGRyIDmkm8KmTd_5bEzGazV9eSimj",
      "authorship_tag": "ABX9TyPECFlFEzO3D+oK/wc+ucAX",
      "include_colab_link": true
    },
    "kernelspec": {
      "name": "python3",
      "display_name": "Python 3"
    },
    "language_info": {
      "name": "python"
    }
  },
  "cells": [
    {
      "cell_type": "markdown",
      "metadata": {
        "id": "view-in-github",
        "colab_type": "text"
      },
      "source": [
        "<a href=\"https://colab.research.google.com/github/Andresf-Asprilla/Modelo-segmentacion-APCIVMAPCAs/blob/main/Evaluaci%C3%B3n_del_HD.ipynb\" target=\"_parent\"><img src=\"https://colab.research.google.com/assets/colab-badge.svg\" alt=\"Open In Colab\"/></a>"
      ]
    },
    {
      "cell_type": "markdown",
      "source": [
        "Antes de ejecutar el siguiente script, debe instalar las siguientes dependencias:\n",
        "```\n",
        "!pip install git+https://github.com/Project-MONAI/MONAI#egg=monai\n",
        "\n",
        "!pip install nnunetv2\n",
        "```\n",
        "\n"
      ],
      "metadata": {
        "id": "3PeDDcDD5NGg"
      }
    },
    {
      "cell_type": "markdown",
      "source": [
        "Nota: Durante la instalación de estos frameworks puede generarse un mensaje de advertencia; este puede ser ignorado, ya que no afecta los resultados ni el funcionamiento del proceso de evaluación."
      ],
      "metadata": {
        "id": "u6d00R08_M_a"
      }
    },
    {
      "cell_type": "markdown",
      "source": [
        "#Ejecuta el siguiente código una sola vez haciendo clic dentro de la celda y luego presionando Control + Enter."
      ],
      "metadata": {
        "id": "s2Prj3XM_XH5"
      }
    },
    {
      "cell_type": "code",
      "execution_count": null,
      "metadata": {
        "id": "9s_bXkXX8pwj"
      },
      "outputs": [],
      "source": [
        "from google.colab import drive\n",
        "drive.mount('/content/drive',force_remount = True)\n",
        "\n",
        "import os\n",
        "import numpy as np\n",
        "import torch\n",
        "from monai.metrics import DiceMetric, HausdorffDistanceMetric\n",
        "from batchgenerators.utilities.file_and_folder_operations import subfiles, join, save_json\n",
        "from nnunetv2.imageio.simpleitk_reader_writer import SimpleITKIO\n",
        "\n",
        "def region_or_label_to_mask(segmentation: np.ndarray, region_or_label):\n",
        "    if np.isscalar(region_or_label):\n",
        "        return segmentation == region_or_label\n",
        "    mask = np.zeros_like(segmentation, dtype=bool)\n",
        "    for r in region_or_label:\n",
        "        mask[segmentation == r] = True\n",
        "    return mask\n",
        "\n",
        "def compute_tp_fp_fn_tn(mask_ref, mask_pred, ignore_mask=None):\n",
        "    if ignore_mask is None:\n",
        "        use_mask = np.ones_like(mask_ref, dtype=bool)\n",
        "    else:\n",
        "        use_mask = ~ignore_mask\n",
        "    tp = np.sum((mask_ref & mask_pred) & use_mask)\n",
        "    fp = np.sum(((~mask_ref) & mask_pred) & use_mask)\n",
        "    fn = np.sum((mask_ref & (~mask_pred)) & use_mask)\n",
        "    tn = np.sum(((~mask_ref) & (~mask_pred)) & use_mask)\n",
        "    return tp, fp, fn, tn\n",
        "\n",
        "\n",
        "def to_monai_tensor(np_array):\n",
        "    tensor = torch.from_numpy(np_array.astype(np.uint8)).to(torch.float32)\n",
        "    tensor = tensor.unsqueeze(0)\n",
        "    return tensor\n",
        "\n",
        "\n",
        "def compute_metrics(reference_file, prediction_file, image_reader_writer, labels, ignore_label=None):\n",
        "    seg_ref, _ = image_reader_writer.read_seg(reference_file)\n",
        "    seg_pred, _ = image_reader_writer.read_seg(prediction_file)\n",
        "\n",
        "    ignore_mask = seg_ref == ignore_label if ignore_label is not None else None\n",
        "    #dice_metric = DiceMetric(include_background=False, reduction=\"mean\")\n",
        "    hd_metric = HausdorffDistanceMetric(include_background=False, percentile=95.0, reduction=\"mean\")\n",
        "\n",
        "    results = {\n",
        "        'reference_file': reference_file,\n",
        "        'prediction_file': prediction_file,\n",
        "        'metrics': {}\n",
        "    }\n",
        "\n",
        "    for label in labels:\n",
        "        mask_ref = region_or_label_to_mask(seg_ref, label)\n",
        "        mask_pred = region_or_label_to_mask(seg_pred, label)\n",
        "\n",
        "        ref_tensor = to_monai_tensor(mask_ref)\n",
        "        pred_tensor = to_monai_tensor(mask_pred)\n",
        "        #dice_monai = dice_metric(pred_tensor, ref_tensor).item()\n",
        "        if mask_ref.sum() > 0 and mask_pred.sum() > 0:\n",
        "            hd_score = hd_metric(pred_tensor, ref_tensor).item()\n",
        "        else:\n",
        "            hd_score = np.nan\n",
        "\n",
        "        tp, fp, fn, tn = compute_tp_fp_fn_tn(mask_ref, mask_pred, ignore_mask)\n",
        "\n",
        "        metrics = {\n",
        "            #'MONAI_DiceMean': float(dice_monai),\n",
        "            'Dice': float(np.nan if tp + fp + fn == 0 else 2 * tp / (2 * tp + fp + fn)),\n",
        "            'HD95': float(hd_score),\n",
        "            'IoU': float(np.nan if tp + fp + fn == 0 else tp / (tp + fp + fn)),\n",
        "            'TP': int(tp),\n",
        "            'FP': int(fp),\n",
        "            'FN': int(fn),\n",
        "            'TN': int(tn),\n",
        "            'n_pred': int(fp + tp),\n",
        "            'n_ref': int(fn + tp),\n",
        "        }\n",
        "        results['metrics'][label] = metrics\n",
        "\n",
        "    return results\n",
        "\n",
        "def evaluate_folder_niigz(folder_ref, folder_pred, labels, output_file=\"summary2.json\",\n",
        "                          ignore_label=None):\n",
        "    file_ending = \".nii.gz\"\n",
        "    reader_writer = SimpleITKIO()\n",
        "\n",
        "    files_ref_set = set(subfiles(folder_ref, suffix=file_ending, join=False))\n",
        "    files_pred_set = set(subfiles(folder_pred, suffix=file_ending, join=False))\n",
        "\n",
        "\n",
        "    common_files = sorted(list(files_ref_set & files_pred_set))\n",
        "    if not common_files:\n",
        "        raise RuntimeError(\"No hay archivos comunes entre referencia y predicción.\")\n",
        "\n",
        "    files_ref = [join(folder_ref, f) for f in common_files]\n",
        "    files_pred = [join(folder_pred, f) for f in common_files]\n",
        "\n",
        "    results = []\n",
        "    for ref, pred in zip(files_ref, files_pred):\n",
        "        results.append(compute_metrics(ref, pred, reader_writer, labels, ignore_label))\n",
        "\n",
        "    metric_list = list(results[0]['metrics'][labels[0]].keys())\n",
        "    means = {l: {m: np.nanmean([r['metrics'][l][m] for r in results]) for m in metric_list} for l in labels}\n",
        "    foreground_mean = {m: np.mean([means[l][m] for l in labels if l != 0]) for m in metric_list}\n",
        "\n",
        "    summary = {'metric_per_case': results, 'mean': means, 'foreground_mean': foreground_mean}\n",
        "    save_json(summary, output_file)\n",
        "    return summary\n"
      ]
    },
    {
      "cell_type": "markdown",
      "source": [
        "Para realizar la evaluacion de la metrica HD, ejecute la siguiente: haga clic dentro de la celda y luego presione Control + Enter . Sin embargo, asegúrese de modificar las rutas de los directorios para indicar tanto la ubicación de las imágenes como el lugar donde desea que se almacenen los archivos convertidos."
      ],
      "metadata": {
        "id": "ADFNbZk8A8py"
      }
    },
    {
      "cell_type": "code",
      "source": [
        "folder_ref = \"/content/drive/MyDrive/Colab Notebooks/nnUNet_raw/Dataset506_APCIVMP/labelsTr\"\n",
        "folder_pred = \"/content/drive/MyDrive/Colab Notebooks/nnUNet_results/Dataset506_APCIVMP/nnUNetTrainer_10epochs__nnUNetPlans__3d_lowres/fold_0/validation\"\n",
        "labels = [1, 2, 3, 4]\n",
        "\n",
        "summary = evaluate_folder_niigz(\n",
        "    folder_ref=folder_ref,\n",
        "    folder_pred=folder_pred,\n",
        "    labels=labels,\n",
        "    output_file=\"/content/drive/MyDrive/Colab Notebooks/nnUNet_results/Dataset506_APCIVMP/nnUNetTrainer_10epochs__nnUNetPlans__3d_lowres/fold_0/validation/summary.json\"\n",
        ")\n",
        "\n",
        "print(\"✅ Evaluación completa\")\n"
      ],
      "metadata": {
        "id": "ONOOXO_1_AV8"
      },
      "execution_count": null,
      "outputs": []
    }
  ]
}