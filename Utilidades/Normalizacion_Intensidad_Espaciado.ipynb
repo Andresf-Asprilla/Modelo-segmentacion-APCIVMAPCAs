{
  "cells": [
    {
      "cell_type": "markdown",
      "metadata": {
        "colab_type": "text",
        "id": "view-in-github"
      },
      "source": [
        "<a href=\"https://colab.research.google.com/github/Andresf-Asprilla/Modelo-segmentacion-APCIVMAPCAs/blob/main/Escalado_Intensidad_Espaciado.ipynb\" target=\"_parent\"><img src=\"https://colab.research.google.com/assets/colab-badge.svg\" alt=\"Open In Colab\"/></a>"
      ]
    },
    {
      "cell_type": "markdown",
      "metadata": {
        "id": "Pu0FClAKNDyI"
      },
      "source": [
        "#Ejecuta el siguiente código una sola vez haciendo clic dentro de la celda y luego presionando Control + Enter."
      ]
    },
    {
      "cell_type": "markdown",
      "metadata": {
        "id": "PpVygEoVEUOL"
      },
      "source": [
        "Antes de ejecutar el siguiente script, debe instalar las siguientes dependencias:\n",
        "```\n",
        "!pip install -q \"monai-weekly[gdown, nibabel, tqdm, itk]\"\n",
        "!pip install SimpleITK\n",
        "```\n",
        "\n"
      ]
    },
    {
      "cell_type": "code",
      "execution_count": null,
      "metadata": {
        "id": "s4NECBVXEooD"
      },
      "outputs": [],
      "source": [
        "from google.colab import drive\n",
        "drive.mount('/content/drive', force_remount=True)\n",
        "import SimpleITK as sitk\n",
        "import nibabel as nib\n",
        "import monai.transforms as tf\n",
        "import os\n",
        "\n",
        "\n",
        "def NormalizacionyEspaciado(ruta_directorio, ruta_salida, nuevo_espaciado):\n",
        "    \"\"\"\n",
        "    Cambia el espaciado de todas las imágenes en un directorio sin modificar sus dimensiones ni el tamaño de las estructuras.\n",
        "    :param ruta_directorio: Ruta al directorio que contiene los archivos NIfTI de entrada.\n",
        "    :param ruta_salida: Ruta al directorio donde se guardarán los archivos procesados.\n",
        "    :param nuevo_espaciado: Nuevo espaciado como lista [x, y, z].\n",
        "    \"\"\"\n",
        "    os.makedirs(ruta_salida, exist_ok=True)\n",
        "    for archivo in os.listdir(ruta_directorio):\n",
        "        if archivo.endswith('.nii') or archivo.endswith('.nii.gz'):\n",
        "            ruta_entrada = os.path.join(ruta_directorio, archivo)\n",
        "            ruta_salida_archivo = os.path.join(ruta_salida, archivo)\n",
        "            # Aplicar el cambio de espaciado\n",
        "            imagen = sitk.ReadImage(ruta_entrada)\n",
        "            # Obtener el tamaño, espaciado y dirección originales\n",
        "            tamaño_original = imagen.GetSize()\n",
        "            espaciado_original = imagen.GetSpacing()\n",
        "            direccion_original = imagen.GetDirection()\n",
        "            print(f\"Espaciado original: {espaciado_original}\")\n",
        "            print(f\"Tamaño original: {tamaño_original}\")\n",
        "            print(f\"Dirección original: {direccion_original}\")\n",
        "            # Ajustar el espaciado sin modificar las dimensiones\n",
        "            imagen.SetSpacing(nuevo_espaciado)\n",
        "            # Calcular el nuevo origen para preservar la posición física\n",
        "            origen_actual = imagen.GetOrigin()\n",
        "            nuevo_origen = [\n",
        "                o + (s1 - s2) * (t - 1) / (2 * t) for o, s1, s2, t in zip(origen_actual,\n",
        "                                                                          espaciado_original,\n",
        "                                                                          nuevo_espaciado,\n",
        "                                                                          tamaño_original)\n",
        "            ]\n",
        "            imagen.SetOrigin(nuevo_origen)\n",
        "            # Reescalar la imagen para mantener el tamaño físico de las estructuras\n",
        "            escala = [s1 / s2 for s1, s2 in zip(espaciado_original, nuevo_espaciado)]\n",
        "            nuevo_tamaño = [int(round(t * e)) for t, e in zip(tamaño_original, escala)]\n",
        "            imagen_resampleada = sitk.Resample(imagen, tamaño_original, sitk.Transform(), sitk.sitkLinear,\n",
        "                                              nuevo_origen, nuevo_espaciado, direccion_original,\n",
        "                                              0, imagen.GetPixelID())\n",
        "\n",
        "            # Guardar la nueva imagen\n",
        "            sitk.WriteImage(imagen_resampleada, ruta_salida_archivo)\n",
        "            print(f\"Nuevo espaciado aplicado: {nuevo_espaciado}\")\n",
        "            # Normalización de intensidad\n",
        "            nifti_imagen = nib.load(ruta_salida_archivo)\n",
        "            datos_imagen = nifti_imagen.get_fdata()\n",
        "            affine = nifti_imagen.affine\n",
        "            # Escalar intensidad\n",
        "            escalar_intensidad = tf.ScaleIntensity()\n",
        "            imagen_normalizada = escalar_intensidad(datos_imagen)\n",
        "            # Convertir a numpy y guardar la imagen normalizada sobreescribiendo la imagen final\n",
        "            imagen_normalizada = imagen_normalizada.numpy()\n",
        "            # Guardar la imagen procesada (reespaciada y normalizada) en el archivo final\n",
        "            nib.save(nib.Nifti1Image(imagen_normalizada, affine), ruta_salida_archivo)\n",
        "            print(\"Imagen reespaciada y normalizada guardada\")\n",
        "\n"
      ]
    },
    {
      "cell_type": "code",
      "execution_count": null,
      "metadata": {
        "id": "Qz6x9ojKF6PO"
      },
      "outputs": [],
      "source": [
        "# Uso para un directorio\n",
        "ruta_directorio = \"/content/drive/MyDrive/Colab Notebooks/Imagenes_redimencionadas_Respaciadas/ImagesEscalarRedimecionar\"# cambia esta direccion por la carpeta donde se encuentra ubicadas las imagenes dicom en tu drive.\n",
        "ruta_salida = \"/content/drive/MyDrive/Colab Notebooks/Imagenes_redimencionadas_Respaciadas/EscaladasRedimecionadas\" # Cambia esta dirección por la carpeta  donde deseas que las imágenes reescaladas y espacadas se almacenen.\n",
        "nuevo_espaciado = [1.0, 1.0, 1.0]  # Espaciado deseado en mm\n",
        "\n",
        "NormalizacionyEspaciado(ruta_directorio, ruta_salida, nuevo_espaciado)\n"
      ]
    }
  ],
  "metadata": {
    "colab": {
      "authorship_tag": "ABX9TyMH31docoHC4xXnL2vROF0N",
      "cell_execution_strategy": "setup",
      "include_colab_link": true,
      "provenance": []
    },
    "kernelspec": {
      "display_name": "Python 3",
      "name": "python3"
    },
    "language_info": {
      "name": "python"
    }
  },
  "nbformat": 4,
  "nbformat_minor": 0
}
