{
  "nbformat": 4,
  "nbformat_minor": 0,
  "metadata": {
    "colab": {
      "provenance": [],
      "authorship_tag": "ABX9TyMCXT61riWnXqar6iENqGss",
      "include_colab_link": true
    },
    "kernelspec": {
      "name": "python3",
      "display_name": "Python 3"
    },
    "language_info": {
      "name": "python"
    }
  },
  "cells": [
    {
      "cell_type": "markdown",
      "metadata": {
        "id": "view-in-github",
        "colab_type": "text"
      },
      "source": [
        "<a href=\"https://colab.research.google.com/github/Andresf-Asprilla/Modelo-segmentacion-APCIVMAPCAs/blob/main/Utilidades/convertir_niifti.ipynb\" target=\"_parent\"><img src=\"https://colab.research.google.com/assets/colab-badge.svg\" alt=\"Open In Colab\"/></a>"
      ]
    },
    {
      "cell_type": "markdown",
      "source": [
        "\n",
        "Antes de ejecutar el siguiente script, debe instalar las siguientes dependencias:\n",
        "```\n",
        "!pip install dicom2nifti\n",
        "!pip install pydicom\n",
        "```\n",
        "\n"
      ],
      "metadata": {
        "id": "1ltxvb4U3AHl"
      }
    },
    {
      "cell_type": "code",
      "source": [
        "!pip install dicom2nifti\n",
        "!pip install pydicom"
      ],
      "metadata": {
        "colab": {
          "base_uri": "https://localhost:8080/"
        },
        "id": "ACHQ8yPIxc5C",
        "outputId": "c64c287a-2129-47e8-cd69-f92793590a7d"
      },
      "execution_count": null,
      "outputs": [
        {
          "output_type": "stream",
          "name": "stdout",
          "text": [
            "Collecting dicom2nifti\n",
            "  Downloading dicom2nifti-2.6.1-py3-none-any.whl.metadata (1.5 kB)\n",
            "Requirement already satisfied: nibabel in /usr/local/lib/python3.11/dist-packages (from dicom2nifti) (5.3.2)\n",
            "Requirement already satisfied: numpy in /usr/local/lib/python3.11/dist-packages (from dicom2nifti) (2.0.2)\n",
            "Requirement already satisfied: scipy in /usr/local/lib/python3.11/dist-packages (from dicom2nifti) (1.15.2)\n",
            "Collecting pydicom>=3.0.0 (from dicom2nifti)\n",
            "  Downloading pydicom-3.0.1-py3-none-any.whl.metadata (9.4 kB)\n",
            "Collecting python-gdcm (from dicom2nifti)\n",
            "  Downloading python_gdcm-3.0.24.1-cp311-cp311-manylinux_2_17_x86_64.manylinux2014_x86_64.whl.metadata (3.7 kB)\n",
            "Requirement already satisfied: importlib-resources>=5.12 in /usr/local/lib/python3.11/dist-packages (from nibabel->dicom2nifti) (6.5.2)\n",
            "Requirement already satisfied: packaging>=20 in /usr/local/lib/python3.11/dist-packages (from nibabel->dicom2nifti) (24.2)\n",
            "Requirement already satisfied: typing-extensions>=4.6 in /usr/local/lib/python3.11/dist-packages (from nibabel->dicom2nifti) (4.13.2)\n",
            "Downloading dicom2nifti-2.6.1-py3-none-any.whl (43 kB)\n",
            "\u001b[2K   \u001b[90m━━━━━━━━━━━━━━━━━━━━━━━━━━━━━━━━━━━━━━━━\u001b[0m \u001b[32m43.6/43.6 kB\u001b[0m \u001b[31m1.2 MB/s\u001b[0m eta \u001b[36m0:00:00\u001b[0m\n",
            "\u001b[?25hDownloading pydicom-3.0.1-py3-none-any.whl (2.4 MB)\n",
            "\u001b[2K   \u001b[90m━━━━━━━━━━━━━━━━━━━━━━━━━━━━━━━━━━━━━━━━\u001b[0m \u001b[32m2.4/2.4 MB\u001b[0m \u001b[31m16.9 MB/s\u001b[0m eta \u001b[36m0:00:00\u001b[0m\n",
            "\u001b[?25hDownloading python_gdcm-3.0.24.1-cp311-cp311-manylinux_2_17_x86_64.manylinux2014_x86_64.whl (13.1 MB)\n",
            "\u001b[2K   \u001b[90m━━━━━━━━━━━━━━━━━━━━━━━━━━━━━━━━━━━━━━━━\u001b[0m \u001b[32m13.1/13.1 MB\u001b[0m \u001b[31m20.5 MB/s\u001b[0m eta \u001b[36m0:00:00\u001b[0m\n",
            "\u001b[?25hInstalling collected packages: python-gdcm, pydicom, dicom2nifti\n",
            "Successfully installed dicom2nifti-2.6.1 pydicom-3.0.1 python-gdcm-3.0.24.1\n",
            "Requirement already satisfied: pydicom in /usr/local/lib/python3.11/dist-packages (3.0.1)\n"
          ]
        }
      ]
    },
    {
      "cell_type": "markdown",
      "source": [
        "# Ejecuta el siguiente código una sola vez haciendo clic dentro de la celda y luego presionando Control + Enter.\n"
      ],
      "metadata": {
        "id": "sana5RmY5Wp4"
      }
    },
    {
      "cell_type": "code",
      "execution_count": null,
      "metadata": {
        "id": "bHqWIkhe5Ol2",
        "colab": {
          "base_uri": "https://localhost:8080/"
        },
        "outputId": "25d93db6-9507-4825-e953-f4bf9ebb73ff"
      },
      "outputs": [
        {
          "output_type": "stream",
          "name": "stdout",
          "text": [
            "Mounted at /content/drive\n"
          ]
        }
      ],
      "source": [
        "from google.colab import drive\n",
        "drive.mount('/content/drive')\n",
        "import dicom2nifti\n",
        "import pydicom\n",
        "import os\n",
        "from IPython.display import clear_output\n",
        "\n",
        "def convertir_nifti(dicom_dir, nifti_dir):\n",
        "    \"\"\"\n",
        "    Convierte un directorio con archivos DICOM a formato NIfTI.\n",
        "    Argumentos:\n",
        "    - dicom_dir (obligatorio): Ruta del directorio que contiene los archivos DICOM.\n",
        "    - nifti_dir (obligatorio): Ruta del directorio de salida para las imágenes NIfTI.\n",
        "    Retorna:\n",
        "    -archivo NIfTI generado.\n",
        "    \"\"\"\n",
        "    # Crear el directorio de salida NIfTI si no existe\n",
        "    os.makedirs(nifti_dir, exist_ok=True)\n",
        "    def obtener_id_paciente(dir):\n",
        "        \"\"\"\n",
        "        Obtiene la ID del paciente desde el primer archivo DICOM en el directorio.\n",
        "         Argumentos:\n",
        "        - directory (obligatorio): Directorio que contiene los archivos DICOM.\n",
        "        Returns:\n",
        "        - ID del paciente o sin_id si no se encuentra.\n",
        "        \"\"\"\n",
        "        for root, dirs, files in os.walk(dir):\n",
        "            for file in files:\n",
        "                if file.endswith(\".dcm\"):\n",
        "                    dicom_path = os.path.join(root, file)\n",
        "                    print(dicom_path)\n",
        "                    dicom_data = pydicom.dcmread(dicom_path)\n",
        "                    return dicom_data.PatientID\n",
        "        return \"sin_id\"\n",
        "    # Obtener la ID del paciente\n",
        "    id_paciente = obtener_id_paciente(dicom_dir)\n",
        "    # Convertir el directorio DICOM a formato NIfTI\n",
        "    dicom2nifti.convert_directory(dicom_dir, nifti_dir)\n",
        "    # Renombrar el archivo NIfTI generado con la ID del paciente\n",
        "    renamed_nifti_path = None\n",
        "    for file in os.listdir(nifti_dir):\n",
        "        if file.endswith(\".nii\") or file.endswith(\".nii.gz\"):\n",
        "            original_nifti_path = os.path.join(nifti_dir, file)\n",
        "            renamed_nifti_path = os.path.join(nifti_dir, f\"{id_paciente}.nii.gz\")\n",
        "            os.rename(original_nifti_path, renamed_nifti_path)\n",
        "            clear_output(wait=True)\n",
        "            break\n",
        "    if renamed_nifti_path:\n",
        "        print(\"Archivo DICOM convertido y guardado\")\n",
        "    else:\n",
        "        print(\"Error: No se generó ningún archivo NIfTI.\")\n",
        "    return renamed_nifti_path"
      ]
    },
    {
      "cell_type": "markdown",
      "source": [
        "Para realizar la conversión, ejecute la siguiente celda de la misma manera que la anterior: haga clic dentro de la celda y luego presione Control + Enter . Sin embargo, asegúrese de modificar las rutas de los directorios para indicar tanto la ubicación de las imágenes como el lugar donde desea que se almacenen los archivos convertidos.\n"
      ],
      "metadata": {
        "id": "1b25aa7W5ZGg"
      }
    },
    {
      "cell_type": "code",
      "source": [
        "# Implementacion de la funcion.\n",
        "dicom_dir = \"/content/drive/MyDrive/Colab Notebooks/conversion/Data\" # cambia esta direccion donde se encuentra ubicadas las imagenes dicom en tu drive.\n",
        "nifti_dir = \"/content/drive/MyDrive/Colab Notebooks/conversion/Data_nifti\" # Cambia esta dirección por el lugar donde deseas que las imágenes en archivo nifti se almacenen.\n",
        "convertir_nifti(dicom_dir, nifti_dir)"
      ],
      "metadata": {
        "id": "WDJFF_ab5evw",
        "colab": {
          "base_uri": "https://localhost:8080/",
          "height": 53
        },
        "outputId": "81335e88-612a-429f-a351-7c1e5a98380f"
      },
      "execution_count": null,
      "outputs": [
        {
          "output_type": "stream",
          "name": "stdout",
          "text": [
            "Archivo DICOM convertido y guardado\n"
          ]
        },
        {
          "output_type": "execute_result",
          "data": {
            "text/plain": [
              "'/content/drive/MyDrive/Colab Notebooks/conversion/Data_nifti/JSRKIA.nii.gz'"
            ],
            "application/vnd.google.colaboratory.intrinsic+json": {
              "type": "string"
            }
          },
          "metadata": {},
          "execution_count": 4
        }
      ]
    }
  ]
}