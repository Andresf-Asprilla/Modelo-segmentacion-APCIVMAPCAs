{
  "nbformat": 4,
  "nbformat_minor": 0,
  "metadata": {
    "colab": {
      "provenance": [],
      "authorship_tag": "ABX9TyMN2h2s3aO+Elxih4i5n4Nq",
      "include_colab_link": true
    },
    "kernelspec": {
      "name": "python3",
      "display_name": "Python 3"
    },
    "language_info": {
      "name": "python"
    }
  },
  "cells": [
    {
      "cell_type": "markdown",
      "metadata": {
        "id": "view-in-github",
        "colab_type": "text"
      },
      "source": [
        "<a href=\"https://colab.research.google.com/github/Andresf-Asprilla/Modelo-segmentacion-APCIVMAPCAs/blob/main/convertir_niifti.ipynb\" target=\"_parent\"><img src=\"https://colab.research.google.com/assets/colab-badge.svg\" alt=\"Open In Colab\"/></a>"
      ]
    },
    {
      "cell_type": "markdown",
      "source": [
        "\n",
        "Antes de ejecutar el siguiente script, debe instalar las siguientes dependencias:\n",
        "```\n",
        "!pip install dicom2nifti\n",
        "!pip install pydicom\n",
        "```\n",
        "\n"
      ],
      "metadata": {
        "id": "1ltxvb4U3AHl"
      }
    },
    {
      "cell_type": "markdown",
      "source": [
        "# Ejecuta el siguiente código una sola vez haciendo clic dentro de la celda y luego presionando Control + Enter.\n"
      ],
      "metadata": {
        "id": "sana5RmY5Wp4"
      }
    },
    {
      "cell_type": "code",
      "execution_count": null,
      "metadata": {
        "id": "bHqWIkhe5Ol2"
      },
      "outputs": [],
      "source": [
        "from google.colab import drive\n",
        "drive.mount('/content/drive')\n",
        "import dicom2nifti\n",
        "import pydicom\n",
        "import os\n",
        "from IPython.display import clear_output\n",
        "\n",
        "def convertir_nifti(dicom_dir, nifti_dir):\n",
        "    \"\"\"\n",
        "    Convierte un directorio con archivos DICOM a formato NIfTI.\n",
        "    Argumentos:\n",
        "    - dicom_dir (obligatorio): Ruta del directorio que contiene los archivos DICOM.\n",
        "    - nifti_dir (obligatorio): Ruta del directorio de salida para las imágenes NIfTI.\n",
        "    Retorna:\n",
        "    -archivo NIfTI generado.\n",
        "    \"\"\"\n",
        "    # Crear el directorio de salida NIfTI si no existe\n",
        "    os.makedirs(nifti_dir, exist_ok=True)\n",
        "    def obtener_id_paciente(dir):\n",
        "        \"\"\"\n",
        "        Obtiene la ID del paciente desde el primer archivo DICOM en el directorio.\n",
        "         Argumentos:\n",
        "        - directory (obligatorio): Directorio que contiene los archivos DICOM.\n",
        "        Returns:\n",
        "        - ID del paciente o sin_id si no se encuentra.\n",
        "        \"\"\"\n",
        "        for root, dirs, files in os.walk(dir):\n",
        "            for file in files:\n",
        "                if file.endswith(\".dcm\"):\n",
        "                    dicom_path = os.path.join(root, file)\n",
        "                    print(dicom_path)\n",
        "                    dicom_data = pydicom.dcmread(dicom_path)\n",
        "                    return dicom_data.PatientID\n",
        "        return \"sin_id\"\n",
        "    # Obtener la ID del paciente\n",
        "    id_paciente = obtener_id_paciente(dicom_dir)\n",
        "    # Convertir el directorio DICOM a formato NIfTI\n",
        "    dicom2nifti.convert_directory(dicom_dir, nifti_dir)\n",
        "    # Renombrar el archivo NIfTI generado con la ID del paciente\n",
        "    renamed_nifti_path = None\n",
        "    for file in os.listdir(nifti_dir):\n",
        "        if file.endswith(\".nii\") or file.endswith(\".nii.gz\"):\n",
        "            original_nifti_path = os.path.join(nifti_dir, file)\n",
        "            renamed_nifti_path = os.path.join(nifti_dir, f\"{id_paciente}.nii.gz\")\n",
        "            os.rename(original_nifti_path, renamed_nifti_path)\n",
        "            clear_output(wait=True)\n",
        "            break\n",
        "    if renamed_nifti_path:\n",
        "        print(\"Archivo DICOM convertido y guardado\")\n",
        "    else:\n",
        "        print(\"Error: No se generó ningún archivo NIfTI.\")\n",
        "    return renamed_nifti_path"
      ]
    },
    {
      "cell_type": "markdown",
      "source": [
        "Para realizar la conversión, ejecute la siguiente celda de la misma manera que la anterior: haga clic dentro de la celda y luego presione Control + Enter . Sin embargo, asegúrese de modificar las rutas de los directorios para indicar tanto la ubicación de las imágenes como el lugar donde desea que se almacenen los archivos convertidos.\n"
      ],
      "metadata": {
        "id": "1b25aa7W5ZGg"
      }
    },
    {
      "cell_type": "code",
      "source": [
        "# Implementacion de la funcion.\n",
        "dicom_dir = r\"/content/drive/MyDrive/Colab Notebooks/conversion/Data\" # cambia esta direccion donde se encuentra ubicadas las imagenes dicom en tu drive.\n",
        "nifti_dir = r\"/content/drive/MyDrive/Colab Notebooks/conversion/Data_nifti\" # Cambia esta dirección por el lugar donde deseas que las imágenes en archivo nifti se almacenen.\n",
        "convertir_nifti(dicom_dir, nifti_dir)"
      ],
      "metadata": {
        "id": "WDJFF_ab5evw",
        "collapsed": true,
        "colab": {
          "base_uri": "https://localhost:8080/",
          "height": 53
        },
        "outputId": "657e3838-c78a-44e7-e8de-2bf3c1389b8c"
      },
      "execution_count": null,
      "outputs": [
        {
          "output_type": "stream",
          "name": "stdout",
          "text": [
            "Archivo DICOM convertido y guardado\n"
          ]
        },
        {
          "output_type": "execute_result",
          "data": {
            "text/plain": [
              "'/content/drive/MyDrive/Colab Notebooks/conversion/Data_nifti/JSRKIA.nii.gz'"
            ],
            "application/vnd.google.colaboratory.intrinsic+json": {
              "type": "string"
            }
          },
          "metadata": {},
          "execution_count": 6
        }
      ]
    }
  ]
}