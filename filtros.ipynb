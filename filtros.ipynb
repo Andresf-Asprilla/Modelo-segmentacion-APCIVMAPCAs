{
  "nbformat": 4,
  "nbformat_minor": 0,
  "metadata": {
    "colab": {
      "provenance": [],
      "cell_execution_strategy": "setup",
      "authorship_tag": "ABX9TyMBPDx7R7+Q3xBi+NIdmtn9",
      "include_colab_link": true
    },
    "kernelspec": {
      "name": "python3",
      "display_name": "Python 3"
    },
    "language_info": {
      "name": "python"
    }
  },
  "cells": [
    {
      "cell_type": "markdown",
      "metadata": {
        "id": "view-in-github",
        "colab_type": "text"
      },
      "source": [
        "<a href=\"https://colab.research.google.com/github/Andresf-Asprilla/Modelo-segmentacion-APCIVMAPCAs/blob/main/filtros.ipynb\" target=\"_parent\"><img src=\"https://colab.research.google.com/assets/colab-badge.svg\" alt=\"Open In Colab\"/></a>"
      ]
    },
    {
      "cell_type": "markdown",
      "source": [
        "#Antes de ejecutar cualquier función en este notebook, ejecuta el siguiente código una sola vez. Para hacerlo, haz clic dentro de la celda y luego presiona Control + Enter.                                                          Repite este procedimiento con la celda de la función que desees ejecutar."
      ],
      "metadata": {
        "id": "Uef85ZEAFQLE"
      }
    },
    {
      "cell_type": "markdown",
      "source": [
        "Antes de ejecutar el siguiente script, debe instalar las siguientes dependencias:\n",
        "```\n",
        "!pip install -q \"monai-weekly[gdown, nibabel, tqdm, itk]\"\n",
        "!pip install SimpleITK\n",
        "!pip install dicom2nifti\n",
        "!pip install pydicom\n",
        "```\n",
        "\n"
      ],
      "metadata": {
        "id": "oAvT9iiaAz4L"
      }
    },
    {
      "cell_type": "code",
      "source": [
        "from IPython.display import clear_output\n",
        "from google.colab import drive\n",
        "drive.mount('/content/drive')\n",
        "import monai.transforms as tf\n",
        "import SimpleITK as sitk\n",
        "import nibabel as nib\n",
        "import dicom2nifti\n",
        "import pydicom\n",
        "import os"
      ],
      "metadata": {
        "id": "y6a2TK75fhM4"
      },
      "execution_count": null,
      "outputs": []
    },
    {
      "cell_type": "code",
      "source": [
        "def DiffusionAnisotropica(ruta_imagen,conductancia, iteraciones=5, timesep=0.0625):\n",
        "    \"\"\"\n",
        "    Aplica un filtro anisotrópico de difusión.\n",
        "    Argumentos:\n",
        "    -ruta_imagen  (obligatorio) Ruta del archivo NIfTI a procesar.\n",
        "    -conductancia  (obligatorio): Parámetro de conductancia del filtro.\n",
        "    -iteraciones (no obligatorio): Número de iteraciones del filtro anisotrópico.\n",
        "    -timesep ( no obligatorio): Tamaño del paso temporal.\n",
        "    Retorna:\n",
        "    -archivo NIfTI Filtrado.\n",
        "    \"\"\"\n",
        "    # Cargar la imagen NIfTI\n",
        "    imagen = sitk.ReadImage(ruta_imagen)\n",
        "    imagen = sitk.Cast(imagen, sitk.sitkFloat32)\n",
        "    # Aplicar el filtro anisotrópico de difusión\n",
        "    filtro = sitk.GradientAnisotropicDiffusionImageFilter()\n",
        "    filtro.SetTimeStep(timesep)\n",
        "    filtro.SetNumberOfIterations(iteraciones)\n",
        "    filtro.SetConductanceParameter(conductancia)\n",
        "    imagen_filtrada = filtro.Execute(imagen)\n",
        "    # Guardar la imagen procesada\n",
        "    sitk.WriteImage(imagen_filtrada, ruta_imagen)\n",
        "    print(f\"Imagen procesada guardada\")\n",
        "\n",
        "def FiltroMediana(ruta_imagen, vecinos):\n",
        "    \"\"\"\n",
        "    Aplica un filtro de mediana a una imagen NIfTI.\n",
        "    Argumentos:\n",
        "    -ruta_imagen (obligatorio): Ruta del archivo NIfTI a procesar.\n",
        "    -vecinos (obligatorio): Radio del vecindario para el filtro de mediana como [x, y, z].\n",
        "    Retorna:\n",
        "    -archivo NIfTI filtrado.\n",
        "    \"\"\"\n",
        "    # Cargar la imagen NIfTI\n",
        "    imagen = sitk.ReadImage(ruta_imagen)\n",
        "    # Aplica filtro de mediana con vecinos especificados\n",
        "    filtro_mediana = sitk.MedianImageFilter()\n",
        "    filtro_mediana.SetRadius(tuple(vecinos))\n",
        "    imagen_filtrada = filtro_mediana.Execute(imagen)\n",
        "    # Guardar la imagen procesada\n",
        "    sitk.WriteImage(imagen_filtrada, ruta_imagen)\n",
        "    print(f\"Imagen filtrada guardada en: {ruta_imagen}\")\n",
        "\n"
      ],
      "metadata": {
        "id": "F6Plt2Qs2EAL"
      },
      "execution_count": null,
      "outputs": []
    },
    {
      "cell_type": "markdown",
      "source": [
        "Para realizar la implementacion del **filtro de difusion anisotropica**, ejecute la\n",
        "siguiente celda de la misma manera que la anterior"
      ],
      "metadata": {
        "id": "d0GuFzTJGHc5"
      }
    },
    {
      "cell_type": "code",
      "source": [
        "# Implementacion de la funcion del filtro de Diffusion Anisotropica.\n",
        "DiffusionAnisotropica('/content/drive/MyDrive/Colab Notebooks/conversion/Data_nifti/Nombreimagen.nii.gz',1)# Cambia esta direccion por donde se encuentra ubicada la imagene nifti a filtrar en tu drive.\n"
      ],
      "metadata": {
        "id": "YplRxdX79_H6"
      },
      "execution_count": null,
      "outputs": []
    },
    {
      "cell_type": "markdown",
      "source": [
        "Para realizar la implementacion del **filtro de Mediana**,ejecuta la siguiente celda siguiendo las recomendaciones anteriores."
      ],
      "metadata": {
        "id": "UQE58ETdGsnj"
      }
    },
    {
      "cell_type": "code",
      "source": [
        "# Implementacion de la funcion del filtro de Mediana.\n",
        "FiltroMediana('/content/drive/MyDrive/Colab Notebooks/conversion/Data_nifti/Nombreimagen.nii.gz', [1, 1, 1]) # Cambia esta direccion por donde se encuentra ubicada la imagene nifti a filtrar en tu drive.\n"
      ],
      "metadata": {
        "id": "nKDOJ-twDKqT"
      },
      "execution_count": null,
      "outputs": []
    }
  ]
}